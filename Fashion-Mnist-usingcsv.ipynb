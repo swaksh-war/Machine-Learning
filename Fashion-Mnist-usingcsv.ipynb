{
 "cells": [
  {
   "cell_type": "code",
   "execution_count": 1,
   "source": [
    "import torch\r\n",
    "import pandas as pd\r\n",
    "import numpy as np\r\n",
    "from torch.utils.data import DataLoader, random_split\r\n",
    "from tqdm import tqdm"
   ],
   "outputs": [],
   "metadata": {}
  },
  {
   "cell_type": "code",
   "execution_count": 2,
   "source": [
    "#path of the respective csv files\r\n",
    "\r\n",
    "training_data_path = r'D:\\Coding\\Python Programming\\Modules\\Pytorch\\csvs\\fashion-mnist_train.csv'\r\n",
    "test_data_path = r'D:\\Coding\\Python Programming\\Modules\\Pytorch\\csvs\\fashion-mnist_test.csv'\r\n",
    "\r\n",
    "#loading the csv files uning pandas\r\n",
    "\r\n",
    "training_data = pd.read_csv(training_data_path)\r\n",
    "test_data = pd.read_csv(test_data_path)\r\n",
    "\r\n",
    "#converting them into numpy array\r\n",
    "\r\n",
    "training_data = np.array(training_data)\r\n",
    "test_data = np.array(test_data)\r\n",
    "\r\n",
    "#converting them into torch(we cant convert the initial training_data directly to tensors as they are a dataframe object)\r\n",
    "\r\n",
    "training_data = torch.from_numpy(training_data)\r\n",
    "test_data = torch.from_numpy(test_data)\r\n",
    "\r\n",
    "training_data.shape"
   ],
   "outputs": [],
   "metadata": {}
  },
  {
   "cell_type": "code",
   "execution_count": null,
   "source": [
    "#spliting the training data into training and validation data\r\n",
    "train_data, validation_data = random_split(training_data, [50000,10000])"
   ],
   "outputs": [],
   "metadata": {}
  },
  {
   "cell_type": "code",
   "execution_count": null,
   "source": [
    "#Creating Batches for training\r\n",
    "batch_size = 128\r\n",
    "train_dl = DataLoader(train_data, batch_size = batch_size, shuffle = True)\r\n",
    "valid_dl = DataLoader(validation_data, batch_size= batch_size, shuffle= False)"
   ],
   "outputs": [],
   "metadata": {}
  },
  {
   "cell_type": "code",
   "execution_count": null,
   "source": [
    "#Now the values of the inputs in the csv file are between (0,255) so we need to scale the inputs and for that we will divide the input valiables by 255\r\n",
    "#creating the model\r\n",
    "class FashionModel(torch.nn.Module):\r\n",
    "    def __init__(self, input_size, layer_size, output_size):\r\n",
    "        super().__init__()\r\n",
    "        self.linear1 = torch.nn.Linear(input_size, layer_size)\r\n",
    "        self.linear2 = torch.nn.Linear(layer_size, output_size)\r\n",
    "    \r\n",
    "    def forward(self, x):\r\n",
    "        x = x/255\r\n",
    "        out = self.linear1(x)\r\n",
    "        out = torch.relu(out)\r\n",
    "        out = self.linear2(out)\r\n",
    "        out = torch.softmax(out, dim = 0)\r\n",
    "        return out\r\n",
    "\r\n",
    "input_size = 784\r\n",
    "layer_size = 64\r\n",
    "output_size = 10\r\n",
    "model = FashionModel(input_size, layer_size, output_size)   "
   ],
   "outputs": [],
   "metadata": {}
  },
  {
   "cell_type": "code",
   "execution_count": null,
   "source": [
    "targets = training_data[:,0]\r\n",
    "targets"
   ],
   "outputs": [
    {
     "output_type": "execute_result",
     "data": {
      "text/plain": [
       "60000"
      ]
     },
     "metadata": {},
     "execution_count": 68
    }
   ],
   "metadata": {}
  },
  {
   "cell_type": "code",
   "execution_count": null,
   "source": [
    "#making training loop\r\n",
    "\r\n",
    "loss_fn = torch.nn.BCELoss()\r\n",
    "optimizer = torch.optim.SGD(model.parameters(), lr = 0.02)\r\n",
    "\r\n",
    "epochs = 5\r\n",
    "\r\n",
    "for epoch in tqdm(range(epochs)):\r\n",
    "    for i in train_dl:\r\n",
    "        input_data = i[:,1:785]\r\n",
    "        label_arr = i[:,0]\r\n",
    "        label = []\r\n",
    "        for _ in label_arr:\r\n",
    "            var = np.zeros(10)\r\n",
    "            var[int(_)] = 1\r\n",
    "            label.append(var.astype(np.float32))\r\n",
    "        label = torch.tensor(label)\r\n",
    "        \r\n",
    "        preds = model(input_data)\r\n",
    "        loss = loss_fn(preds, label)\r\n",
    "        loss.backward()\r\n",
    "        optimizer.step()\r\n",
    "        optimizer.zero_grad()"
   ],
   "outputs": [],
   "metadata": {}
  },
  {
   "cell_type": "code",
   "execution_count": null,
   "source": [
    "from matplotlib import pyplot as plt"
   ],
   "outputs": [],
   "metadata": {}
  },
  {
   "cell_type": "code",
   "execution_count": null,
   "source": [
    "#Checking the accuracy with the data from Validation Set(valid_dl) And mapping the image using matplotlib\r\n",
    "with torch.no_grad():\r\n",
    "    for i in valid_dl:\r\n",
    "        input_validation = i[:,1:785]\r\n",
    "        label = i[:,0]\r\n",
    "        preds = model(input_validation)\r\n",
    "    preds_arr = torch.argmax(preds,1)\r\n",
    "    accuracy = torch.sum(preds_arr == label).item()/len(preds_arr)\r\n",
    "print(accuracy)\r\n",
    "i = 3\r\n",
    "print(\"Prediction: {}, Label: {}\".format(preds_arr[i], label[i]))\r\n",
    "plt.imshow(input_validation[i].reshape(28,28), cmap='gray')"
   ],
   "outputs": [
    {
     "output_type": "stream",
     "name": "stdout",
     "text": [
      "0.75\n",
      "Prediction: 0, Label: 0\n"
     ]
    },
    {
     "output_type": "execute_result",
     "data": {
      "text/plain": [
       "16"
      ]
     },
     "metadata": {},
     "execution_count": 66
    },
    {
     "output_type": "display_data",
     "data": {
      "text/plain": [
       "<Figure size 432x288 with 1 Axes>"
      ],
      "image/png": "[encoded data removed]"
     },
     "metadata": {
      "needs_background": "light"
     }
    }
   ],
   "metadata": {}
  },
  {
   "cell_type": "code",
   "execution_count": null,
   "source": [],
   "outputs": [],
   "metadata": {}
  }
 ],
 "metadata": {
  "orig_nbformat": 4,
  "language_info": {
   "name": "python",
   "version": "3.9.0",
   "mimetype": "text/x-python",
   "codemirror_mode": {
    "name": "ipython",
    "version": 3
   },
   "pygments_lexer": "ipython3",
   "nbconvert_exporter": "python",
   "file_extension": ".py"
  },
  "kernelspec": {
   "name": "python3",
   "display_name": "Python 3.9.0 64-bit"
  },
  "interpreter": {
   "hash": "247ab06e135bb35fa78c5eff31b2a9a0050dcb5fb773c2631d2a29ac689eeccb"
  }
 },
 "nbformat": 4,
 "nbformat_minor": 2
}