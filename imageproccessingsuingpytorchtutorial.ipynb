{
 "cells": [
  {
   "cell_type": "code",
   "execution_count": 1,
   "source": [
    "import torch\r\n",
    "import torchvision\r\n",
    "from torchvision.datasets import MNIST"
   ],
   "outputs": [],
   "metadata": {}
  },
  {
   "cell_type": "code",
   "execution_count": 2,
   "source": [
    "dataset = MNIST(root = 'data/', download = True)"
   ],
   "outputs": [
    {
     "output_type": "stream",
     "name": "stderr",
     "text": [
      "C:\\Users\\user\\AppData\\Local\\Programs\\Python\\Python39\\lib\\site-packages\\torchvision\\datasets\\mnist.py:498: UserWarning: The given NumPy array is not writeable, and PyTorch does not support non-writeable tensors. This means you can write to the underlying (supposedly non-writeable) NumPy array using the tensor. You may want to copy the array to protect its data or make it writeable before converting it to a tensor. This type of warning will be suppressed for the rest of this program. (Triggered internally at  ..\\torch\\csrc\\utils\\tensor_numpy.cpp:180.)\n",
      "  return torch.from_numpy(parsed.astype(m[2], copy=False)).view(*s)\n"
     ]
    }
   ],
   "metadata": {}
  },
  {
   "cell_type": "code",
   "execution_count": 3,
   "source": [
    "len(dataset)"
   ],
   "outputs": [
    {
     "output_type": "execute_result",
     "data": {
      "text/plain": [
       "60000"
      ]
     },
     "metadata": {},
     "execution_count": 3
    }
   ],
   "metadata": {}
  },
  {
   "cell_type": "code",
   "execution_count": 4,
   "source": [
    "test_dataset = MNIST(root = 'data/', train = False)"
   ],
   "outputs": [],
   "metadata": {}
  },
  {
   "cell_type": "code",
   "execution_count": 5,
   "source": [
    "import matplotlib.pyplot as plt\r\n",
    "\r\n",
    "%matplotlib inline"
   ],
   "outputs": [],
   "metadata": {}
  },
  {
   "cell_type": "code",
   "execution_count": 6,
   "source": [
    "image, label = dataset[0]\r\n",
    "plt.imshow(image, cmap = 'gray')\r\n",
    "print(label)\r\n"
   ],
   "outputs": [
    {
     "output_type": "stream",
     "name": "stdout",
     "text": [
      "5\n"
     ]
    },
    {
     "output_type": "display_data",
     "data": {
      "text/plain": [
       "<Figure size 432x288 with 1 Axes>"
      ],
      "image/png": "[encoded data removed]"
     },
     "metadata": {
      "needs_background": "light"
     }
    }
   ],
   "metadata": {}
  },
  {
   "cell_type": "code",
   "execution_count": 7,
   "source": [
    "image, label = dataset[10]\r\n",
    "plt.imshow(image, cmap = 'gray')\r\n",
    "print(label)"
   ],
   "outputs": [
    {
     "output_type": "stream",
     "name": "stdout",
     "text": [
      "3\n"
     ]
    },
    {
     "output_type": "display_data",
     "data": {
      "text/plain": [
       "<Figure size 432x288 with 1 Axes>"
      ],
      "image/png": "[encoded data removed]"
     },
     "metadata": {
      "needs_background": "light"
     }
    }
   ],
   "metadata": {}
  },
  {
   "cell_type": "code",
   "execution_count": 8,
   "source": [
    "from torchvision.transforms import transforms"
   ],
   "outputs": [],
   "metadata": {}
  },
  {
   "cell_type": "code",
   "execution_count": 9,
   "source": [
    "dataset = MNIST(root = 'data/', train = True, transform= transforms.ToTensor() )\r\n",
    "test_dataset = MNIST(root = 'data/', train=False, transform=transforms.ToTensor())"
   ],
   "outputs": [],
   "metadata": {}
  },
  {
   "cell_type": "code",
   "execution_count": 10,
   "source": [
    "img_tensor, label = dataset[0]\r\n",
    "print(img_tensor.shape, label)"
   ],
   "outputs": [
    {
     "output_type": "stream",
     "name": "stdout",
     "text": [
      "torch.Size([1, 28, 28]) 5\n"
     ]
    }
   ],
   "metadata": {}
  },
  {
   "cell_type": "code",
   "execution_count": 11,
   "source": [
    "print(img_tensor[:,10:15,10:15])\r\n",
    "print(torch.max(img_tensor), torch.min(img_tensor))"
   ],
   "outputs": [
    {
     "output_type": "stream",
     "name": "stdout",
     "text": [
      "tensor([[[0.0039, 0.6039, 0.9922, 0.3529, 0.0000],\n",
      "         [0.0000, 0.5451, 0.9922, 0.7451, 0.0078],\n",
      "         [0.0000, 0.0431, 0.7451, 0.9922, 0.2745],\n",
      "         [0.0000, 0.0000, 0.1373, 0.9451, 0.8824],\n",
      "         [0.0000, 0.0000, 0.0000, 0.3176, 0.9412]]])\n",
      "tensor(1.) tensor(0.)\n"
     ]
    }
   ],
   "metadata": {}
  },
  {
   "cell_type": "code",
   "execution_count": 12,
   "source": [
    "plt.imshow(img_tensor[0,10:15,10:15], cmap = 'gray')"
   ],
   "outputs": [
    {
     "output_type": "execute_result",
     "data": {
      "text/plain": [
       "<matplotlib.image.AxesImage at 0x1bbde02ce50>"
      ]
     },
     "metadata": {},
     "execution_count": 12
    },
    {
     "output_type": "display_data",
     "data": {
      "text/plain": [
       "<Figure size 432x288 with 1 Axes>"
      ],
      "image/png": "[encoded data removed]"
     },
     "metadata": {
      "needs_background": "light"
     }
    }
   ],
   "metadata": {}
  },
  {
   "cell_type": "code",
   "execution_count": 13,
   "source": [
    "import numpy as np\r\n",
    "\r\n",
    "n = 60000\r\n",
    "val_pct = 0.2"
   ],
   "outputs": [],
   "metadata": {}
  },
  {
   "cell_type": "code",
   "execution_count": 14,
   "source": [
    "def split_indices(n, val_pct):\r\n",
    "    n_val = int(val_pct*n)\r\n",
    "    \r\n",
    "    idxs = np.random.permutation(n)\r\n",
    "    \r\n",
    "    return idxs[n_val:], idxs[:n_val]\r\n",
    "    "
   ],
   "outputs": [],
   "metadata": {}
  },
  {
   "cell_type": "code",
   "execution_count": 15,
   "source": [
    "train_indices, val_indices = split_indices(len(dataset), val_pct = 0.2)\r\n",
    "\r\n",
    "print(len(train_indices))"
   ],
   "outputs": [
    {
     "output_type": "stream",
     "name": "stdout",
     "text": [
      "48000\n"
     ]
    }
   ],
   "metadata": {}
  },
  {
   "cell_type": "code",
   "execution_count": 16,
   "source": [
    "from torch.utils.data.sampler import SubsetRandomSampler\r\n",
    "from torch.utils.data.dataloader import DataLoader"
   ],
   "outputs": [],
   "metadata": {}
  },
  {
   "cell_type": "code",
   "execution_count": 17,
   "source": [
    "batch_size = 100\r\n",
    "\r\n",
    "train_sampler = SubsetRandomSampler(train_indices)\r\n",
    "train_dl = DataLoader(dataset, batch_size, sampler=train_sampler)\r\n",
    "\r\n",
    "val_sampler = SubsetRandomSampler(val_indices)\r\n",
    "val_dl = DataLoader(dataset, batch_size, sampler= val_sampler)\r\n"
   ],
   "outputs": [],
   "metadata": {}
  },
  {
   "cell_type": "code",
   "execution_count": 18,
   "source": [
    "import torch.nn as nn\r\n",
    "\r\n",
    "input_size = 28*28\r\n",
    "num_classes = 10\r\n",
    "    "
   ],
   "outputs": [],
   "metadata": {}
  },
  {
   "cell_type": "code",
   "execution_count": 19,
   "source": [
    "class MnistModel(nn.Module):\r\n",
    "    def __init__(self):\r\n",
    "        super().__init__()\r\n",
    "        self.linear = nn.Linear(input_size, num_classes)\r\n",
    "    \r\n",
    "    def forward(self, xb):\r\n",
    "        xb = xb.reshape(-1, 784)\r\n",
    "        out = self.linear(xb)\r\n",
    "        return out\r\n",
    "\r\n",
    "model = MnistModel()"
   ],
   "outputs": [],
   "metadata": {}
  },
  {
   "cell_type": "code",
   "execution_count": 20,
   "source": [
    "print(model.linear.weight.shape, model.linear.bias.shape)"
   ],
   "outputs": [
    {
     "output_type": "stream",
     "name": "stdout",
     "text": [
      "torch.Size([10, 784]) torch.Size([10])\n"
     ]
    }
   ],
   "metadata": {}
  },
  {
   "cell_type": "code",
   "execution_count": 21,
   "source": [
    "for images, label in train_dl:\r\n",
    "    output = model(images)\r\n",
    "    break\r\n",
    "print(output.shape)\r\n",
    "print(output[:2].data)"
   ],
   "outputs": [
    {
     "output_type": "stream",
     "name": "stdout",
     "text": [
      "torch.Size([100, 10])\n",
      "tensor([[ 0.0696,  0.0423, -0.1530,  0.0283,  0.1580, -0.3363,  0.1697,  0.1832,\n",
      "         -0.2791, -0.2834],\n",
      "        [ 0.0900,  0.1821,  0.0683,  0.1240,  0.1279,  0.0514,  0.0891,  0.0396,\n",
      "          0.0738,  0.0205]])\n"
     ]
    }
   ],
   "metadata": {}
  },
  {
   "cell_type": "code",
   "execution_count": 22,
   "source": [
    "import torch.nn.functional as F\r\n",
    "\r\n",
    "probs = F.softmax(output, dim = 1)\r\n",
    "    "
   ],
   "outputs": [],
   "metadata": {}
  },
  {
   "cell_type": "code",
   "execution_count": 23,
   "source": [
    "max_probs, preds = torch.max(probs, dim = 1)\r\n",
    "\r\n",
    "print(preds)"
   ],
   "outputs": [
    {
     "output_type": "stream",
     "name": "stdout",
     "text": [
      "tensor([7, 1, 4, 6, 1, 1, 2, 6, 6, 1, 1, 6, 0, 2, 1, 7, 4, 2, 7, 7, 2, 1, 4, 1,\n",
      "        1, 1, 1, 0, 4, 6, 6, 0, 6, 0, 0, 6, 1, 1, 7, 4, 7, 6, 1, 1, 6, 4, 1, 1,\n",
      "        6, 0, 7, 6, 1, 7, 6, 7, 0, 1, 7, 4, 4, 7, 6, 1, 7, 6, 1, 2, 1, 2, 7, 1,\n",
      "        6, 6, 0, 6, 1, 0, 7, 6, 0, 1, 4, 0, 1, 4, 0, 1, 7, 7, 7, 6, 1, 1, 2, 4,\n",
      "        1, 0, 0, 6])\n"
     ]
    }
   ],
   "metadata": {}
  },
  {
   "cell_type": "code",
   "execution_count": 24,
   "source": [
    "label"
   ],
   "outputs": [
    {
     "output_type": "execute_result",
     "data": {
      "text/plain": [
       "tensor([9, 1, 8, 8, 5, 0, 4, 5, 0, 1, 8, 8, 7, 2, 2, 0, 1, 4, 9, 9, 4, 9, 2, 3,\n",
       "        0, 3, 9, 4, 7, 1, 4, 7, 8, 3, 4, 8, 0, 9, 0, 9, 8, 2, 7, 3, 0, 7, 0, 0,\n",
       "        6, 3, 7, 6, 1, 4, 6, 3, 8, 8, 4, 9, 1, 4, 6, 3, 4, 2, 8, 8, 0, 8, 4, 7,\n",
       "        1, 6, 7, 0, 1, 4, 3, 0, 0, 2, 3, 8, 7, 7, 2, 5, 5, 4, 5, 6, 1, 0, 2, 6,\n",
       "        8, 5, 3, 4])"
      ]
     },
     "metadata": {},
     "execution_count": 24
    }
   ],
   "metadata": {}
  },
  {
   "cell_type": "code",
   "execution_count": 25,
   "source": [
    "import torch.nn.functional as F"
   ],
   "outputs": [],
   "metadata": {}
  },
  {
   "cell_type": "code",
   "execution_count": 26,
   "source": [
    "loss_fn = F.cross_entropy"
   ],
   "outputs": [],
   "metadata": {}
  },
  {
   "cell_type": "code",
   "execution_count": 1,
   "source": [
    "loss = loss_fn(output, label)\r\n",
    "print(loss.dtype)"
   ],
   "outputs": [
    {
     "output_type": "error",
     "ename": "NameError",
     "evalue": "name 'loss_fn' is not defined",
     "traceback": [
      "\u001b[1;31m---------------------------------------------------------------------------\u001b[0m",
      "\u001b[1;31mNameError\u001b[0m                                 Traceback (most recent call last)",
      "\u001b[1;32m~\\AppData\\Local\\Temp/ipykernel_19292/142286480.py\u001b[0m in \u001b[0;36m<module>\u001b[1;34m\u001b[0m\n\u001b[1;32m----> 1\u001b[1;33m \u001b[0mloss\u001b[0m \u001b[1;33m=\u001b[0m \u001b[0mloss_fn\u001b[0m\u001b[1;33m(\u001b[0m\u001b[0moutput\u001b[0m\u001b[1;33m,\u001b[0m \u001b[0mlabel\u001b[0m\u001b[1;33m)\u001b[0m\u001b[1;33m\u001b[0m\u001b[1;33m\u001b[0m\u001b[0m\n\u001b[0m\u001b[0;32m      2\u001b[0m \u001b[0mprint\u001b[0m\u001b[1;33m(\u001b[0m\u001b[0mloss\u001b[0m\u001b[1;33m.\u001b[0m\u001b[0mdtype\u001b[0m\u001b[1;33m)\u001b[0m\u001b[1;33m\u001b[0m\u001b[1;33m\u001b[0m\u001b[0m\n",
      "\u001b[1;31mNameError\u001b[0m: name 'loss_fn' is not defined"
     ]
    }
   ],
   "metadata": {}
  },
  {
   "cell_type": "code",
   "execution_count": 28,
   "source": [
    "learning_rate = 1e-4\r\n",
    "optimizer = torch.optim.SGD(model.parameters(), lr=learning_rate)"
   ],
   "outputs": [],
   "metadata": {}
  },
  {
   "cell_type": "code",
   "execution_count": 29,
   "source": [
    "def loss_batch(model, loss_func, xb, yb, opt=None, metric=None):\r\n",
    "    preds = model(xb)\r\n",
    "    loss = loss_func(preds, yb)\r\n",
    "    \r\n",
    "    if opt is not None:\r\n",
    "        loss.backward()\r\n",
    "        \r\n",
    "        opt.step()\r\n",
    "        \r\n",
    "        opt.zero_grad()\r\n",
    "    \r\n",
    "    \r\n",
    "    metric_result = metric(preds, yb)\r\n",
    "    \r\n",
    "    return loss.item(), len(xb), metric_result"
   ],
   "outputs": [],
   "metadata": {}
  },
  {
   "cell_type": "code",
   "execution_count": 30,
   "source": [
    "def evaluate(model, loss_func, valid_dl, metric = None):\r\n",
    "    with torch.no_grad():\r\n",
    "        results = [loss_batch(model, loss_func, xb, yb, metric = metric) for xb, yb in valid_dl]\r\n",
    "        losses, nums, metrics = zip(*results)\r\n",
    "        total = np.sum(nums)\r\n",
    "        avg_loss = np.sum(np.multiply(losses, nums)) / total\r\n",
    "        \r\n",
    "        \r\n",
    "        avg_metric = np.sum(np.multiply(metrics, nums)) / total\r\n",
    "        return avg_loss, total, avg_metric"
   ],
   "outputs": [],
   "metadata": {}
  },
  {
   "cell_type": "code",
   "execution_count": 31,
   "source": [
    "def accuracy(output, labels):\r\n",
    "    _, preds = torch.max(output, dim = 1)\r\n",
    "    return torch.sum(preds == labels).item() / len(preds)"
   ],
   "outputs": [],
   "metadata": {}
  },
  {
   "cell_type": "code",
   "execution_count": 32,
   "source": [
    "val_loss, totals, val_acc = evaluate(model, loss_fn, val_dl, metric = accuracy)\r\n",
    "print('Loss: {:.4f}, Accuracy: {:.4f}'.format(val_loss, val_acc))"
   ],
   "outputs": [
    {
     "output_type": "stream",
     "name": "stdout",
     "text": [
      "Loss: 2.3128, Accuracy: 0.1343\n"
     ]
    }
   ],
   "metadata": {}
  },
  {
   "cell_type": "code",
   "execution_count": 33,
   "source": [
    "def fit(epochs, model, loss_fn, opt, train_dl, valid_dl, metric = None):\r\n",
    "    for epoch in range(epochs):\r\n",
    "        for xb, yb in train_dl:\r\n",
    "            loss,_,_ = loss_batch(model, loss_fn, xb, yb, opt, metric= metric)\r\n",
    "        \r\n",
    "            result = evaluate(model, loss_fn, valid_dl, metric= metric)\r\n",
    "        \r\n",
    "            val_loss, total, val_metric = result\r\n",
    "        \r\n",
    "    print('Epoch {}/{}, Loss: {}, {}:{:.4f}'.format(epoch+1, epochs, val_loss, metric.__name__, val_metric))"
   ],
   "outputs": [],
   "metadata": {}
  },
  {
   "cell_type": "code",
   "execution_count": 34,
   "source": [
    "model = MnistModel()\r\n",
    "optimizer = torch.optim.SGD(model.parameters(), lr = learning_rate)"
   ],
   "outputs": [],
   "metadata": {}
  },
  {
   "cell_type": "code",
   "execution_count": null,
   "source": [
    "fit(5, model, F.cross_entropy, optimizer, train_dl, val_dl, metric = accuracy)"
   ],
   "outputs": [],
   "metadata": {}
  },
  {
   "cell_type": "code",
   "execution_count": 36,
   "source": [
    "def predict_image(img, model):\r\n",
    "    xb = img.unsqueeze(0)\r\n",
    "    yb = model(xb)\r\n",
    "    _, preds = torch.max(yb, dim=1)\r\n",
    "    preds[0].item()"
   ],
   "outputs": [],
   "metadata": {}
  },
  {
   "cell_type": "code",
   "execution_count": 37,
   "source": [
    "img, label = test_dataset[0]\r\n",
    "plt.imshow(img[0], cmap= 'gray')\r\n",
    "print('Label : ', label, 'Pred: ', predict_image(img, model))\r\n"
   ],
   "outputs": [
    {
     "output_type": "error",
     "ename": "TypeError",
     "evalue": "'Image' object is not subscriptable",
     "traceback": [
      "\u001b[1;31m---------------------------------------------------------------------------\u001b[0m",
      "\u001b[1;31mTypeError\u001b[0m                                 Traceback (most recent call last)",
      "\u001b[1;32m~\\AppData\\Local\\Temp/ipykernel_10916/2320844401.py\u001b[0m in \u001b[0;36m<module>\u001b[1;34m\u001b[0m\n\u001b[0;32m      1\u001b[0m \u001b[0mimg\u001b[0m\u001b[1;33m,\u001b[0m \u001b[0mlabel\u001b[0m \u001b[1;33m=\u001b[0m \u001b[0mtest_dataset\u001b[0m\u001b[1;33m[\u001b[0m\u001b[1;36m0\u001b[0m\u001b[1;33m]\u001b[0m\u001b[1;33m\u001b[0m\u001b[1;33m\u001b[0m\u001b[0m\n\u001b[1;32m----> 2\u001b[1;33m \u001b[0mplt\u001b[0m\u001b[1;33m.\u001b[0m\u001b[0mimshow\u001b[0m\u001b[1;33m(\u001b[0m\u001b[0mimg\u001b[0m\u001b[1;33m[\u001b[0m\u001b[1;36m0\u001b[0m\u001b[1;33m]\u001b[0m\u001b[1;33m,\u001b[0m \u001b[0mcmap\u001b[0m\u001b[1;33m=\u001b[0m \u001b[1;34m'gray'\u001b[0m\u001b[1;33m)\u001b[0m\u001b[1;33m\u001b[0m\u001b[1;33m\u001b[0m\u001b[0m\n\u001b[0m\u001b[0;32m      3\u001b[0m \u001b[0mprint\u001b[0m\u001b[1;33m(\u001b[0m\u001b[1;34m'Label : '\u001b[0m\u001b[1;33m,\u001b[0m \u001b[0mlabel\u001b[0m\u001b[1;33m,\u001b[0m \u001b[1;34m'Pred: '\u001b[0m\u001b[1;33m,\u001b[0m \u001b[0mpredict_image\u001b[0m\u001b[1;33m(\u001b[0m\u001b[0mimg\u001b[0m\u001b[1;33m,\u001b[0m \u001b[0mmodel\u001b[0m\u001b[1;33m)\u001b[0m\u001b[1;33m)\u001b[0m\u001b[1;33m\u001b[0m\u001b[1;33m\u001b[0m\u001b[0m\n",
      "\u001b[1;31mTypeError\u001b[0m: 'Image' object is not subscriptable"
     ]
    }
   ],
   "metadata": {}
  },
  {
   "cell_type": "code",
   "execution_count": null,
   "source": [],
   "outputs": [],
   "metadata": {}
  }
 ],
 "metadata": {
  "orig_nbformat": 4,
  "language_info": {
   "name": "python",
   "version": "3.9.0",
   "mimetype": "text/x-python",
   "codemirror_mode": {
    "name": "ipython",
    "version": 3
   },
   "pygments_lexer": "ipython3",
   "nbconvert_exporter": "python",
   "file_extension": ".py"
  },
  "kernelspec": {
   "name": "python3",
   "display_name": "Python 3.9.0 64-bit"
  },
  "interpreter": {
   "hash": "247ab06e135bb35fa78c5eff31b2a9a0050dcb5fb773c2631d2a29ac689eeccb"
  }
 },
 "nbformat": 4,
 "nbformat_minor": 2
}