{
 "cells": [
  {
   "cell_type": "code",
   "execution_count": 1,
   "source": [
    "import torch\r\n",
    "import torchvision\r\n",
    "from torchvision.datasets import MNIST\r\n",
    "import numpy as np\r\n",
    "from PIL import Image"
   ],
   "outputs": [],
   "metadata": {}
  },
  {
   "cell_type": "code",
   "execution_count": 2,
   "source": [
    "dataset = MNIST(root = 'data/', download = True)\r\n"
   ],
   "outputs": [
    {
     "output_type": "stream",
     "name": "stderr",
     "text": [
      "C:\\Users\\user\\AppData\\Local\\Programs\\Python\\Python39\\lib\\site-packages\\torchvision\\datasets\\mnist.py:498: UserWarning: The given NumPy array is not writeable, and PyTorch does not support non-writeable tensors. This means you can write to the underlying (supposedly non-writeable) NumPy array using the tensor. You may want to copy the array to protect its data or make it writeable before converting it to a tensor. This type of warning will be suppressed for the rest of this program. (Triggered internally at  ..\\torch\\csrc\\utils\\tensor_numpy.cpp:180.)\n",
      "  return torch.from_numpy(parsed.astype(m[2], copy=False)).view(*s)\n"
     ]
    }
   ],
   "metadata": {}
  },
  {
   "cell_type": "code",
   "execution_count": 3,
   "source": [
    "len(dataset)"
   ],
   "outputs": [
    {
     "output_type": "execute_result",
     "data": {
      "text/plain": [
       "60000"
      ]
     },
     "metadata": {},
     "execution_count": 3
    }
   ],
   "metadata": {}
  },
  {
   "cell_type": "code",
   "execution_count": 4,
   "source": [
    "import matplotlib.pyplot as plt\r\n",
    "%matplotlib inline"
   ],
   "outputs": [],
   "metadata": {}
  },
  {
   "cell_type": "code",
   "execution_count": 5,
   "source": [
    "image, label = dataset[0]\r\n",
    "plt.imshow(image, cmap = 'gray')\r\n",
    "print(label)"
   ],
   "outputs": [
    {
     "output_type": "stream",
     "name": "stdout",
     "text": [
      "5\n"
     ]
    },
    {
     "output_type": "display_data",
     "data": {
      "text/plain": [
       "<Figure size 432x288 with 1 Axes>"
      ],
      "image/png": "[encoded data removed]"
     },
     "metadata": {
      "needs_background": "light"
     }
    }
   ],
   "metadata": {}
  },
  {
   "cell_type": "code",
   "execution_count": 6,
   "source": [
    "import torchvision.transforms as transforms"
   ],
   "outputs": [],
   "metadata": {}
  },
  {
   "cell_type": "code",
   "execution_count": 7,
   "source": [
    "dataset = MNIST(root = 'data/', train = True, transform= transforms.ToTensor())\r\n",
    "test_dataset = MNIST(root = 'data/', train = False, transform= transforms.ToTensor())"
   ],
   "outputs": [],
   "metadata": {}
  },
  {
   "cell_type": "code",
   "execution_count": 8,
   "source": [
    "img_tensor, label = dataset[0]\r\n",
    "print(img_tensor.shape, label)"
   ],
   "outputs": [
    {
     "output_type": "stream",
     "name": "stdout",
     "text": [
      "torch.Size([1, 28, 28]) 5\n"
     ]
    }
   ],
   "metadata": {}
  },
  {
   "cell_type": "code",
   "execution_count": 9,
   "source": [
    "print(img_tensor[:, 10:15,10:15])"
   ],
   "outputs": [
    {
     "output_type": "stream",
     "name": "stdout",
     "text": [
      "tensor([[[0.0039, 0.6039, 0.9922, 0.3529, 0.0000],\n",
      "         [0.0000, 0.5451, 0.9922, 0.7451, 0.0078],\n",
      "         [0.0000, 0.0431, 0.7451, 0.9922, 0.2745],\n",
      "         [0.0000, 0.0000, 0.1373, 0.9451, 0.8824],\n",
      "         [0.0000, 0.0000, 0.0000, 0.3176, 0.9412]]])\n"
     ]
    }
   ],
   "metadata": {}
  },
  {
   "cell_type": "code",
   "execution_count": 10,
   "source": [
    "plt.imshow(img_tensor[0,10:15,10:15], cmap='gray')"
   ],
   "outputs": [
    {
     "output_type": "execute_result",
     "data": {
      "text/plain": [
       "<matplotlib.image.AxesImage at 0x1c1f770e640>"
      ]
     },
     "metadata": {},
     "execution_count": 10
    },
    {
     "output_type": "display_data",
     "data": {
      "text/plain": [
       "<Figure size 432x288 with 1 Axes>"
      ],
      "image/png": "[encoded data removed]"
     },
     "metadata": {
      "needs_background": "light"
     }
    }
   ],
   "metadata": {}
  },
  {
   "cell_type": "code",
   "execution_count": 11,
   "source": [
    "from torch.utils.data import random_split\r\n",
    "\r\n",
    "train_ds , valid_ds = random_split(dataset, [50000,10000])\r\n",
    "\r\n",
    "len(train_ds), len(valid_ds)"
   ],
   "outputs": [
    {
     "output_type": "execute_result",
     "data": {
      "text/plain": [
       "(50000, 10000)"
      ]
     },
     "metadata": {},
     "execution_count": 11
    }
   ],
   "metadata": {}
  },
  {
   "cell_type": "code",
   "execution_count": 12,
   "source": [
    "from torch.utils.data import DataLoader\r\n",
    "\r\n",
    "batch_size = 128\r\n",
    "\r\n",
    "train_dl = DataLoader(train_ds, batch_size, shuffle= True)\r\n",
    "valid_dl = DataLoader(valid_ds, batch_size)"
   ],
   "outputs": [],
   "metadata": {}
  },
  {
   "cell_type": "code",
   "execution_count": 13,
   "source": [
    "import torch.nn as nn\r\n",
    "\r\n",
    "input_size = 28*28\r\n",
    "num_classes = 10\r\n",
    "\r\n",
    "model = nn.Linear(input_size, num_classes)"
   ],
   "outputs": [],
   "metadata": {}
  },
  {
   "cell_type": "code",
   "execution_count": 14,
   "source": [
    "print(model.weight.shape)"
   ],
   "outputs": [
    {
     "output_type": "stream",
     "name": "stdout",
     "text": [
      "torch.Size([10, 784])\n"
     ]
    }
   ],
   "metadata": {}
  },
  {
   "cell_type": "code",
   "execution_count": 15,
   "source": [
    "print(model.bias.shape)"
   ],
   "outputs": [
    {
     "output_type": "stream",
     "name": "stdout",
     "text": [
      "torch.Size([10])\n"
     ]
    }
   ],
   "metadata": {}
  },
  {
   "cell_type": "code",
   "execution_count": 16,
   "source": [
    "for image, label in train_dl:\r\n",
    "    print(label)\r\n",
    "    break"
   ],
   "outputs": [
    {
     "output_type": "stream",
     "name": "stdout",
     "text": [
      "tensor([8, 5, 6, 7, 3, 5, 2, 9, 3, 3, 7, 5, 6, 6, 4, 5, 6, 8, 9, 0, 3, 8, 4, 0,\n",
      "        5, 3, 2, 7, 4, 6, 4, 2, 0, 0, 4, 7, 0, 3, 7, 2, 3, 5, 5, 4, 8, 6, 3, 9,\n",
      "        2, 4, 2, 7, 5, 6, 6, 2, 8, 1, 8, 4, 5, 7, 1, 1, 5, 3, 0, 2, 5, 2, 9, 7,\n",
      "        0, 5, 1, 0, 5, 5, 1, 0, 0, 8, 7, 8, 4, 1, 9, 2, 4, 1, 6, 8, 3, 6, 3, 4,\n",
      "        5, 8, 1, 1, 0, 1, 1, 8, 7, 8, 5, 7, 1, 2, 0, 8, 2, 5, 4, 6, 6, 3, 1, 3,\n",
      "        6, 4, 4, 6, 5, 4, 3, 6])\n"
     ]
    }
   ],
   "metadata": {}
  },
  {
   "cell_type": "code",
   "execution_count": 17,
   "source": [
    "image.shape"
   ],
   "outputs": [
    {
     "output_type": "execute_result",
     "data": {
      "text/plain": [
       "torch.Size([128, 1, 28, 28])"
      ]
     },
     "metadata": {},
     "execution_count": 17
    }
   ],
   "metadata": {}
  },
  {
   "cell_type": "code",
   "execution_count": 18,
   "source": [
    "image.reshape(128,784).shape"
   ],
   "outputs": [
    {
     "output_type": "execute_result",
     "data": {
      "text/plain": [
       "torch.Size([128, 784])"
      ]
     },
     "metadata": {},
     "execution_count": 18
    }
   ],
   "metadata": {}
  },
  {
   "cell_type": "code",
   "execution_count": 19,
   "source": [
    "class MnistModel(nn.Module):\r\n",
    "    def __init__(self):\r\n",
    "        super().__init__()\r\n",
    "        self.linear = nn.Linear(input_size, num_classes)\r\n",
    "    \r\n",
    "    def forward(self,xb):\r\n",
    "        xb = xb.reshape(-1, 784)\r\n",
    "        out = self.linear(xb)\r\n",
    "        return out\r\n",
    "\r\n",
    "model = MnistModel()"
   ],
   "outputs": [],
   "metadata": {}
  },
  {
   "cell_type": "code",
   "execution_count": 20,
   "source": [
    "for images, labels in train_dl:\r\n",
    "    print(images.shape)\r\n",
    "    output = model(images)\r\n",
    "    break\r\n"
   ],
   "outputs": [
    {
     "output_type": "stream",
     "name": "stdout",
     "text": [
      "torch.Size([128, 1, 28, 28])\n"
     ]
    }
   ],
   "metadata": {}
  },
  {
   "cell_type": "code",
   "execution_count": 21,
   "source": [
    "import torch.nn.functional as F    "
   ],
   "outputs": [],
   "metadata": {}
  },
  {
   "cell_type": "code",
   "execution_count": 22,
   "source": [
    "probs = F.softmax(output, dim=1)\r\n",
    "\r\n",
    "max_probs, preds = torch.max(probs, dim=1)\r\n"
   ],
   "outputs": [],
   "metadata": {}
  },
  {
   "cell_type": "code",
   "execution_count": 23,
   "source": [
    "def accuracy(outputs,labels):\r\n",
    "    _, preds = torch.max(outputs, dim = 1)\r\n",
    "    return torch.tensor(torch.sum(preds == labels).item()/ len(preds))\r\n"
   ],
   "outputs": [],
   "metadata": {}
  },
  {
   "cell_type": "code",
   "execution_count": 24,
   "source": [
    "accuracy(output, labels)"
   ],
   "outputs": [
    {
     "output_type": "execute_result",
     "data": {
      "text/plain": [
       "tensor(0.1406)"
      ]
     },
     "metadata": {},
     "execution_count": 24
    }
   ],
   "metadata": {}
  },
  {
   "cell_type": "code",
   "execution_count": 25,
   "source": [
    "loss_fn = F.cross_entropy"
   ],
   "outputs": [],
   "metadata": {}
  },
  {
   "cell_type": "code",
   "execution_count": 26,
   "source": [
    "loss = loss_fn(output, labels)\r\n",
    "print(loss)"
   ],
   "outputs": [
    {
     "output_type": "stream",
     "name": "stdout",
     "text": [
      "tensor(2.3338, grad_fn=<NllLossBackward>)\n"
     ]
    }
   ],
   "metadata": {}
  },
  {
   "cell_type": "code",
   "execution_count": 27,
   "source": [
    "def fit(epochs, lr, model, train_dl, valid_dl, opt_func = torch.optim.SGD):\r\n",
    "    optimizer = opt_func(model.parameters(), lr)\r\n",
    "    history = []\r\n",
    "    \r\n",
    "    for epoch in range(epochs):\r\n",
    "        for batch in train_dl:\r\n",
    "            loss = model.training_step(batch)\r\n",
    "            loss.backward()\r\n",
    "            optimizer.step()\r\n",
    "            optimizer.zero_grad()\r\n",
    "            \r\n",
    "        result = evaluate(model, valid_dl)\r\n",
    "        model.epoch_end(epoch, result)\r\n",
    "        history.append(result)\r\n",
    "    return history\r\n",
    "    "
   ],
   "outputs": [],
   "metadata": {}
  },
  {
   "cell_type": "code",
   "execution_count": 28,
   "source": [
    "def evaluate(model, val_loader):\r\n",
    "    outputs = [model.validation_step(batch) for batch in val_loader]\r\n",
    "    return model.validation_epoch_end(outputs)"
   ],
   "outputs": [],
   "metadata": {}
  },
  {
   "cell_type": "code",
   "execution_count": 29,
   "source": [
    "class MnistModel(nn.Module):\r\n",
    "    def __init__(self):\r\n",
    "        super().__init__()\r\n",
    "        self.linear = nn.Linear(input_size, num_classes)\r\n",
    "    \r\n",
    "    def forward(self, xb):\r\n",
    "        xb = xb.reshape(-1, 784)\r\n",
    "        out = self.linear(xb)\r\n",
    "        return out\r\n",
    "    \r\n",
    "    def training_step(self, batch):\r\n",
    "        images, labels = batch\r\n",
    "        out = self(images)\r\n",
    "        loss = F.cross_entropy(out, labels)\r\n",
    "        return loss\r\n",
    "    \r\n",
    "    def validation_step(self,batch):\r\n",
    "        images, labels = batch\r\n",
    "        out = self(images)\r\n",
    "        loss = F.cross_entropy(out, labels)\r\n",
    "        acc = accuracy(out, labels)\r\n",
    "        return {'val_loss': loss, 'val_acc' : acc}\r\n",
    "    \r\n",
    "    def weights(self):\r\n",
    "        return self.linear.weight\r\n",
    "    \r\n",
    "    def bias(self):\r\n",
    "        return self.linear.bias\r\n",
    "    \r\n",
    "    def validation_epoch_end(self, output):\r\n",
    "        batch_losses = [x['val_loss'] for x in output]\r\n",
    "        epoch_loss = torch.stack(batch_losses).mean()\r\n",
    "        batch_accs = [x['val_acc'] for x in output]\r\n",
    "        epoch_acc = torch.stack(batch_accs).mean()\r\n",
    "        \r\n",
    "        return {'val_loss': epoch_loss, 'val_acc': epoch_acc}\r\n",
    "    \r\n",
    "    def epoch_end(self, epoch, result):\r\n",
    "        print(\"Epoch [{}], val_loss: {:.4f}, val_acc: {:.4f}\".format(epoch+1, result['val_loss'], result['val_acc']))\r\n",
    "\r\n",
    "model = MnistModel()"
   ],
   "outputs": [],
   "metadata": {}
  },
  {
   "cell_type": "code",
   "execution_count": 30,
   "source": [
    "history1 = fit(10, 0.001, model, train_dl, valid_dl)"
   ],
   "outputs": [
    {
     "output_type": "stream",
     "name": "stdout",
     "text": [
      "Epoch [1], val_loss: 1.9511, val_acc: 0.6021\n",
      "Epoch [2], val_loss: 1.6821, val_acc: 0.7236\n",
      "Epoch [3], val_loss: 1.4803, val_acc: 0.7683\n",
      "Epoch [4], val_loss: 1.3275, val_acc: 0.7908\n",
      "Epoch [5], val_loss: 1.2098, val_acc: 0.8027\n",
      "Epoch [6], val_loss: 1.1170, val_acc: 0.8114\n",
      "Epoch [7], val_loss: 1.0426, val_acc: 0.8191\n",
      "Epoch [8], val_loss: 0.9816, val_acc: 0.8253\n",
      "Epoch [9], val_loss: 0.9308, val_acc: 0.8293\n",
      "Epoch [10], val_loss: 0.8878, val_acc: 0.8339\n"
     ]
    }
   ],
   "metadata": {}
  },
  {
   "cell_type": "code",
   "execution_count": 31,
   "source": [
    "history2 = fit(10, 0.01, model, train_dl, valid_dl)\r\n"
   ],
   "outputs": [
    {
     "output_type": "stream",
     "name": "stdout",
     "text": [
      "Epoch [1], val_loss: 0.6630, val_acc: 0.8582\n",
      "Epoch [2], val_loss: 0.5709, val_acc: 0.8687\n",
      "Epoch [3], val_loss: 0.5190, val_acc: 0.8761\n",
      "Epoch [4], val_loss: 0.4852, val_acc: 0.8807\n",
      "Epoch [5], val_loss: 0.4607, val_acc: 0.8839\n",
      "Epoch [6], val_loss: 0.4423, val_acc: 0.8864\n",
      "Epoch [7], val_loss: 0.4278, val_acc: 0.8893\n",
      "Epoch [8], val_loss: 0.4159, val_acc: 0.8912\n",
      "Epoch [9], val_loss: 0.4059, val_acc: 0.8926\n",
      "Epoch [10], val_loss: 0.3975, val_acc: 0.8939\n"
     ]
    }
   ],
   "metadata": {}
  },
  {
   "cell_type": "code",
   "execution_count": 32,
   "source": [
    "weights, bias=list(model.parameters())\r\n",
    "weights = weights[0]\r\n",
    "size = (300,300)\r\n",
    "with torch.no_grad():\r\n",
    "    weights = weights.numpy()\r\n",
    "    weights = np.reshape(weights, [28,28])\r\n",
    "    img = Image.fromarray(weights * 255)\r\n",
    "    img.resize(size)\r\n",
    "    img.show()"
   ],
   "outputs": [],
   "metadata": {}
  },
  {
   "cell_type": "code",
   "execution_count": 33,
   "source": [
    "def predict_image(img, model):\r\n",
    "    xb = img.unsqueeze(0)\r\n",
    "    yb = model(xb)\r\n",
    "    _, preds = torch.max(yb, dim = 1)\r\n",
    "    return preds[0].item()\r\n",
    "    "
   ],
   "outputs": [],
   "metadata": {}
  },
  {
   "cell_type": "code",
   "execution_count": 34,
   "source": [
    "img, label = test_dataset[321]\r\n",
    "plt.imshow(img[0], cmap = 'gray')\r\n",
    "print('Label: ', label,'Prediction: ', predict_image(img, model))"
   ],
   "outputs": [
    {
     "output_type": "stream",
     "name": "stdout",
     "text": [
      "Label:  7 Prediction:  7\n"
     ]
    },
    {
     "output_type": "display_data",
     "data": {
      "text/plain": [
       "<Figure size 432x288 with 1 Axes>"
      ],
      "image/png": "[encoded data removed]"
     },
     "metadata": {
      "needs_background": "light"
     }
    }
   ],
   "metadata": {}
  },
  {
   "cell_type": "code",
   "execution_count": null,
   "source": [],
   "outputs": [],
   "metadata": {}
  }
 ],
 "metadata": {
  "orig_nbformat": 4,
  "language_info": {
   "name": "python",
   "version": "3.9.0",
   "mimetype": "text/x-python",
   "codemirror_mode": {
    "name": "ipython",
    "version": 3
   },
   "pygments_lexer": "ipython3",
   "nbconvert_exporter": "python",
   "file_extension": ".py"
  },
  "kernelspec": {
   "name": "python3",
   "display_name": "Python 3.9.0 64-bit"
  },
  "interpreter": {
   "hash": "247ab06e135bb35fa78c5eff31b2a9a0050dcb5fb773c2631d2a29ac689eeccb"
  }
 },
 "nbformat": 4,
 "nbformat_minor": 2
}