{
 "cells": [
  {
   "cell_type": "code",
   "execution_count": 2,
   "source": [
    "import pandas as pd\r\n",
    "import numpy as np\r\n",
    "import torch\r\n",
    "import torch.nn as nn\r\n",
    "from sklearn.preprocessing import StandardScaler\r\n",
    "from sklearn.model_selection import train_test_split"
   ],
   "outputs": [],
   "metadata": {}
  },
  {
   "cell_type": "code",
   "execution_count": 3,
   "source": [
    "data_path = r'D:\\Coding\\Python Programming\\Iris.csv'\r\n",
    "data = pd.read_csv(data_path)"
   ],
   "outputs": [],
   "metadata": {}
  },
  {
   "cell_type": "code",
   "execution_count": 4,
   "source": [
    "inputs = data[['SepalLengthCm','SepalWidthCm','PetalLengthCm','PetalWidthCm']]\r\n",
    "\r\n",
    "y = data[['Species']]\r\n",
    "targets = []\r\n",
    "\r\n",
    "for i in y.values:\r\n",
    "    if i == \"Iris-setosa\":\r\n",
    "        targets.append([1,0,0])\r\n",
    "    elif i == \"Iris-versicolor\":\r\n",
    "        targets.append([0,1,0])\r\n",
    "    else:\r\n",
    "        targets.append([0,0,1])\r\n",
    "\r\n",
    "inputs = np.array(inputs)\r\n",
    "\r\n",
    "targets = np.array(targets)\r\n"
   ],
   "outputs": [],
   "metadata": {}
  },
  {
   "cell_type": "code",
   "execution_count": 5,
   "source": [
    "x_train, x_test, y_train, y_test =  train_test_split(inputs, targets, test_size= 0.2)\r\n",
    "\r\n",
    "sc = StandardScaler()\r\n",
    "x_train = sc.fit_transform(x_train)\r\n",
    "x_test = sc.fit_transform(x_test)\r\n",
    "y_train = sc.fit_transform(y_train)\r\n",
    "y_test = sc.fit_transform(y_test)\r\n",
    "\r\n",
    "x_train = torch.from_numpy(x_train.astype(np.float32))\r\n",
    "x_test = torch.from_numpy(x_test.astype(np.float32))\r\n",
    "y_train = torch.from_numpy(y_train.astype(np.float32))\r\n",
    "y_test = torch.from_numpy(y_test.astype(np.float32))"
   ],
   "outputs": [
    {
     "output_type": "execute_result",
     "data": {
      "text/plain": [
       "torch.Size([120, 4])"
      ]
     },
     "metadata": {},
     "execution_count": 5
    }
   ],
   "metadata": {}
  },
  {
   "cell_type": "code",
   "execution_count": 6,
   "source": [
    "class IrisModel(nn.Module):\r\n",
    "    def __init__(self):\r\n",
    "        super(IrisModel, self).__init__()\r\n",
    "        self.linear = nn.Linear(4,3)\r\n",
    "    \r\n",
    "    def forward(self, x): \r\n",
    "        preds = torch.nn.functional.softmax(self.linear(x), dim = 1)\r\n",
    "        return preds\r\n",
    "\r\n",
    "model = IrisModel()\r\n",
    "loss_fn = nn.BCELoss()\r\n",
    "optimizer = torch.optim.SGD(model.parameters(), lr= 0.01)\r\n"
   ],
   "outputs": [],
   "metadata": {}
  },
  {
   "cell_type": "code",
   "execution_count": 7,
   "source": [
    "epochs = 10000\r\n",
    "\r\n",
    "for epoch in range(epochs):\r\n",
    "    prediction = model(x_train)\r\n",
    "    loss = loss_fn(prediction, y_train)\r\n",
    "    loss.backward()\r\n",
    "    optimizer.step()\r\n",
    "    optimizer.zero_grad()\r\n",
    "    \r\n",
    "    if (epoch)%1000 == 0:\r\n",
    "        print(loss)\r\n",
    "\r\n",
    "preds_arr = torch.argmax(prediction, 1)\r\n",
    "targets_arr = torch.argmax(y_train, 1)\r\n",
    "with torch.no_grad():\r\n",
    "    print(\"Accuracy: {:.2f}% \".format((torch.sum(preds_arr == targets_arr).item() / len(preds_arr))* 100))\r\n",
    "    "
   ],
   "outputs": [
    {
     "output_type": "stream",
     "name": "stdout",
     "text": [
      "tensor(0.7096, grad_fn=<BinaryCrossEntropyBackward>)\n",
      "tensor(0.2543, grad_fn=<BinaryCrossEntropyBackward>)\n",
      "tensor(0.2077, grad_fn=<BinaryCrossEntropyBackward>)\n",
      "tensor(0.1790, grad_fn=<BinaryCrossEntropyBackward>)\n",
      "tensor(0.1583, grad_fn=<BinaryCrossEntropyBackward>)\n",
      "tensor(0.1424, grad_fn=<BinaryCrossEntropyBackward>)\n",
      "tensor(0.1300, grad_fn=<BinaryCrossEntropyBackward>)\n",
      "tensor(0.1201, grad_fn=<BinaryCrossEntropyBackward>)\n",
      "tensor(0.1119, grad_fn=<BinaryCrossEntropyBackward>)\n",
      "tensor(0.1051, grad_fn=<BinaryCrossEntropyBackward>)\n",
      "Accuracy: 96.67% \n"
     ]
    }
   ],
   "metadata": {}
  },
  {
   "cell_type": "code",
   "execution_count": 8,
   "source": [
    "with torch.no_grad():\r\n",
    "    test_pred = model(torch.tensor(np.array([[5.5,2.3,4,1.3]]).astype(np.float32)))\r\n",
    "test_pred"
   ],
   "outputs": [
    {
     "output_type": "execute_result",
     "data": {
      "text/plain": [
       "tensor([[1.5672e-11, 8.0105e-05, 9.9992e-01]])"
      ]
     },
     "metadata": {},
     "execution_count": 8
    }
   ],
   "metadata": {}
  }
 ],
 "metadata": {
  "orig_nbformat": 4,
  "language_info": {
   "name": "python",
   "version": "3.9.0",
   "mimetype": "text/x-python",
   "codemirror_mode": {
    "name": "ipython",
    "version": 3
   },
   "pygments_lexer": "ipython3",
   "nbconvert_exporter": "python",
   "file_extension": ".py"
  },
  "kernelspec": {
   "name": "python3",
   "display_name": "Python 3.9.0 64-bit"
  },
  "interpreter": {
   "hash": "247ab06e135bb35fa78c5eff31b2a9a0050dcb5fb773c2631d2a29ac689eeccb"
  }
 },
 "nbformat": 4,
 "nbformat_minor": 2
}