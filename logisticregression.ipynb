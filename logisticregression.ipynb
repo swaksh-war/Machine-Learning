{
 "cells": [
  {
   "cell_type": "code",
   "execution_count": 26,
   "source": [
    "import torch\r\n",
    "import numpy as np\r\n",
    "import torch.nn as nn\r\n",
    "from sklearn import datasets\r\n",
    "from sklearn.preprocessing import StandardScaler\r\n",
    "from sklearn.model_selection import train_test_split"
   ],
   "outputs": [],
   "metadata": {}
  },
  {
   "cell_type": "code",
   "execution_count": 27,
   "source": [
    "bc = datasets.load_breast_cancer()\r\n",
    "x,y = bc.data, bc.target\r\n",
    "n_samples, n_features = x.shape\r\n",
    "\r\n",
    "x_train, x_test, y_train, y_test = train_test_split(x,y, test_size=0.2, random_state=1234)\r\n",
    "\r\n",
    "sc = StandardScaler()\r\n",
    "x_train = sc.fit_transform(x_train)\r\n",
    "\r\n",
    "x_test = sc.transform(x_test)\r\n",
    "\r\n",
    "x_train = torch.from_numpy(x_train.astype(np.float32))\r\n",
    "x_test = torch.from_numpy(x_test.astype(np.float32))\r\n",
    "y_train = torch.from_numpy(y_train.astype(np.float32))\r\n",
    "y_test = torch.from_numpy(y_test.astype(np.float32))\r\n",
    "\r\n",
    "y_train = y_train.view(y_train.shape[0], 1)\r\n",
    "y_test = y_test.view(y_test.shape[0], 1)\r\n",
    "\r\n",
    "x_train"
   ],
   "outputs": [],
   "metadata": {}
  },
  {
   "cell_type": "code",
   "execution_count": 30,
   "source": [
    "class LogisticRegression(nn.Module):\r\n",
    "    def __init__(self, n_input_features):\r\n",
    "        super(LogisticRegression, self).__init__()\r\n",
    "        self.linear = nn.Linear(n_input_features, 1)\r\n",
    "    \r\n",
    "    def forward(self, x):\r\n",
    "        y_predicted = torch.sigmoid(self.linear(x))\r\n",
    "        return y_predicted\r\n",
    "\r\n",
    "model = LogisticRegression(n_features)\r\n",
    "\r\n",
    "loss_fn = nn.BCELoss()\r\n",
    "\r\n",
    "optimizer = torch.optim.SGD(model.parameters(), lr= 0.01)\r\n",
    "\r\n",
    "num_epochs = 10000\r\n",
    "\r\n",
    "for epoch in range(num_epochs):\r\n",
    "    y_predicted = model(x_train)\r\n",
    "    loss = loss_fn(y_predicted, y_train)\r\n",
    "    \r\n",
    "    loss.backward()\r\n",
    "    \r\n",
    "    optimizer.step()\r\n",
    "    \r\n",
    "    optimizer.zero_grad()\r\n",
    "    \r\n",
    "    if (epoch) % 1000 == 0:\r\n",
    "        print(epoch)\r\n",
    "        print(loss)\r\n",
    "\r\n",
    "with torch.no_grad():\r\n",
    "    y_predicted = model(x_test)\r\n",
    "    y_predicted_cls = y_predicted.round()\r\n",
    "    acc = y_predicted_cls.eq(y_test).sum()/float(y_test.shape[0])\r\n",
    "    print(acc)\r\n",
    "    \r\n",
    "    "
   ],
   "outputs": [
    {
     "output_type": "stream",
     "name": "stdout",
     "text": [
      "0\n",
      "tensor(0.8203, grad_fn=<BinaryCrossEntropyBackward>)\n",
      "1000\n",
      "tensor(0.0869, grad_fn=<BinaryCrossEntropyBackward>)\n",
      "2000\n",
      "tensor(0.0679, grad_fn=<BinaryCrossEntropyBackward>)\n",
      "3000\n",
      "tensor(0.0594, grad_fn=<BinaryCrossEntropyBackward>)\n",
      "4000\n",
      "tensor(0.0541, grad_fn=<BinaryCrossEntropyBackward>)\n",
      "5000\n",
      "tensor(0.0504, grad_fn=<BinaryCrossEntropyBackward>)\n",
      "6000\n",
      "tensor(0.0476, grad_fn=<BinaryCrossEntropyBackward>)\n",
      "7000\n",
      "tensor(0.0454, grad_fn=<BinaryCrossEntropyBackward>)\n",
      "8000\n",
      "tensor(0.0436, grad_fn=<BinaryCrossEntropyBackward>)\n",
      "9000\n",
      "tensor(0.0420, grad_fn=<BinaryCrossEntropyBackward>)\n",
      "tensor(0.9561)\n"
     ]
    }
   ],
   "metadata": {}
  }
 ],
 "metadata": {
  "orig_nbformat": 4,
  "language_info": {
   "name": "python",
   "version": "3.9.0",
   "mimetype": "text/x-python",
   "codemirror_mode": {
    "name": "ipython",
    "version": 3
   },
   "pygments_lexer": "ipython3",
   "nbconvert_exporter": "python",
   "file_extension": ".py"
  },
  "kernelspec": {
   "name": "python3",
   "display_name": "Python 3.9.0 64-bit"
  },
  "interpreter": {
   "hash": "247ab06e135bb35fa78c5eff31b2a9a0050dcb5fb773c2631d2a29ac689eeccb"
  }
 },
 "nbformat": 4,
 "nbformat_minor": 2
}