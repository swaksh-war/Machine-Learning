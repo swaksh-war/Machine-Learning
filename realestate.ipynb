{
 "cells": [
  {
   "cell_type": "code",
   "execution_count": 1,
   "source": [
    "import torch\r\n",
    "import numpy as np\r\n",
    "import pandas as pd"
   ],
   "outputs": [],
   "metadata": {}
  },
  {
   "cell_type": "code",
   "execution_count": 2,
   "source": [
    "dataset = pd.read_csv(\"D:\\Coding\\Python Programming\\Real estate.csv\")\r\n",
    "\r\n",
    "inputs = dataset[['X2 house age','X3 distance to the nearest MRT station','X4 number of convenience stores']]\r\n",
    "\r\n",
    "targets = dataset[['Y house price of unit area']]\r\n",
    "\r\n",
    "input_arr = np.array(inputs, dtype= 'float32')\r\n",
    "target_arr = np.array(targets, dtype= 'float32')\r\n",
    "\r\n",
    "inputs = torch.from_numpy(input_arr)\r\n",
    "\r\n",
    "targets = torch.from_numpy(target_arr)\r\n",
    "\r\n",
    "train_ds = torch.utils.data.TensorDataset(inputs, targets)\r\n",
    "train_ds[0:3]\r\n",
    "\r\n",
    "batch_size = 10\r\n",
    "\r\n",
    "train_dl = torch.utils.data.DataLoader(train_ds, batch_size, shuffle = True)\r\n",
    "\r\n",
    "model = torch.nn.Linear(3,1)\r\n",
    "\r\n",
    "preds = model(inputs)\r\n",
    "\r\n",
    "import  torch.nn.functional as F\r\n",
    "\r\n",
    "loss = F.mse_loss\r\n",
    "\r\n",
    "\r\n",
    "opt = torch.optim.SGD(model.parameters(), lr = 1e-8)\r\n",
    "\r\n",
    "final_weights = torch.tensor([0])\r\n",
    "\r\n",
    "final_bias = torch.tensor([0])\r\n",
    "\r\n",
    "def fit(num_epochs, model, loss_fn, opt, train_dl):\r\n",
    "    \r\n",
    "    for epoch in range(num_epochs):\r\n",
    "        \r\n",
    "        for xb,yb in train_dl:\r\n",
    "            \r\n",
    "            pred = model(xb)\r\n",
    "            \r\n",
    "            loss = loss_fn(pred, yb)\r\n",
    "            \r\n",
    "            loss.backward()\r\n",
    "            \r\n",
    "            opt.step()\r\n",
    "            \r\n",
    "            opt.zero_grad()\r\n",
    "        if loss.item() <= 100:\r\n",
    "            final_weights = model.weight\r\n",
    "            final_bias = model.bias\r\n",
    "            print(epoch)\r\n",
    "            print(loss)\r\n",
    "            print(model.weight)\r\n",
    "            print(model.bias)\r\n",
    "            # break\r\n",
    "                \r\n",
    "\r\n",
    "fit(1000, model, loss, opt, train_dl)\r\n",
    "\r\n"
   ],
   "outputs": [],
   "metadata": {}
  }
 ],
 "metadata": {
  "orig_nbformat": 4,
  "language_info": {
   "name": "python",
   "version": "3.9.0",
   "mimetype": "text/x-python",
   "codemirror_mode": {
    "name": "ipython",
    "version": 3
   },
   "pygments_lexer": "ipython3",
   "nbconvert_exporter": "python",
   "file_extension": ".py"
  },
  "kernelspec": {
   "name": "python3",
   "display_name": "Python 3.9.0 64-bit"
  },
  "interpreter": {
   "hash": "247ab06e135bb35fa78c5eff31b2a9a0050dcb5fb773c2631d2a29ac689eeccb"
  }
 },
 "nbformat": 4,
 "nbformat_minor": 2
}